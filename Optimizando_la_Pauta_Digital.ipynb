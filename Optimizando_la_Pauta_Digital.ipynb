{
  "nbformat": 4,
  "nbformat_minor": 0,
  "metadata": {
    "colab": {
      "name": "Optimizando la Pauta Digital.ipynb",
      "provenance": [],
      "collapsed_sections": []
    },
    "kernelspec": {
      "name": "python3",
      "display_name": "Python 3"
    },
    "language_info": {
      "name": "python"
    }
  },
  "cells": [
    {
      "cell_type": "markdown",
      "metadata": {
        "id": "BjfKuFj3ae4p"
      },
      "source": [
        "**Actividad 05: Optimizando la pauta digital**<br>\n",
        "La plataforma digital de servicios QUIX quiere atraer más usuarios. Para ello invertirá en pauta digital. La pauta digital permite configurar las horas en la que las diferentes redes sociales le mostrarán los anuncios de la plataforma a los potenciales usuarios. \n",
        "\n",
        "Se ha recogido información sobre datos de conexión de usuarios en un periodo de tiempo (ver adjunto). De acuerdo con esta información, ¿cómo debería distribuir su presupuesto de pauta digital la compañía?\n",
        "\n",
        "\n",
        "\n",
        "*   Davinson Montoya Ramírez\n",
        "*   Jessica Rivera\n",
        "*   Luis Felipe Arevalo Cortes\n",
        "\n",
        "\n",
        "\n"
      ]
    },
    {
      "cell_type": "code",
      "metadata": {
        "id": "xhiHktu-TsLR"
      },
      "source": [
        "#importacion de librerias\n",
        "import pandas as pd\n",
        "import matplotlib.pyplot as plt\n",
        "import numpy as np\n",
        "import datetime\n",
        "from sklearn.model_selection import train_test_split\n",
        "from sklearn.model_selection import cross_val_score\n",
        "from sklearn.linear_model import LinearRegression\n",
        "from sklearn.tree import DecisionTreeRegressor\n",
        "from sklearn.ensemble import RandomForestRegressor\n",
        "from sklearn.metrics import r2_score"
      ],
      "execution_count": null,
      "outputs": []
    },
    {
      "cell_type": "markdown",
      "metadata": {
        "id": "bpUlibtHm6Xt"
      },
      "source": [
        "La base de datos de conexión de usuarios presenta información desde el 21 de diciembre de 2020 hasta el 25 de enero de 2021. Contamos con 5 variables (ID Usuario, Calificadora, Correo, fecha de consulta y estado de usuario). En total tenemos 4022 registros."
      ]
    },
    {
      "cell_type": "code",
      "metadata": {
        "id": "vNoZ4TGGUJd6"
      },
      "source": [
        "#cargamos la base de datos\n",
        "df = pd.read_csv(\"datos_horas_conexion.csv\", sep=\";\")"
      ],
      "execution_count": null,
      "outputs": []
    },
    {
      "cell_type": "markdown",
      "metadata": {
        "id": "aRkpDqg-n5ws"
      },
      "source": [
        "A continuación se muestra una vista previa de los datos:"
      ]
    },
    {
      "cell_type": "code",
      "metadata": {
        "colab": {
          "base_uri": "https://localhost:8080/",
          "height": 204
        },
        "id": "XJ4gERsIUZb1",
        "outputId": "3c81a832-0e34-4ae9-c60c-b27ea31e411d"
      },
      "source": [
        "df.head()"
      ],
      "execution_count": null,
      "outputs": [
        {
          "output_type": "execute_result",
          "data": {
            "text/html": [
              "<div>\n",
              "<style scoped>\n",
              "    .dataframe tbody tr th:only-of-type {\n",
              "        vertical-align: middle;\n",
              "    }\n",
              "\n",
              "    .dataframe tbody tr th {\n",
              "        vertical-align: top;\n",
              "    }\n",
              "\n",
              "    .dataframe thead th {\n",
              "        text-align: right;\n",
              "    }\n",
              "</style>\n",
              "<table border=\"1\" class=\"dataframe\">\n",
              "  <thead>\n",
              "    <tr style=\"text-align: right;\">\n",
              "      <th></th>\n",
              "      <th>id_usuario</th>\n",
              "      <th>Calificadora</th>\n",
              "      <th>Correo</th>\n",
              "      <th>Fecha Consulta</th>\n",
              "      <th>Estado usuario</th>\n",
              "    </tr>\n",
              "  </thead>\n",
              "  <tbody>\n",
              "    <tr>\n",
              "      <th>0</th>\n",
              "      <td>c2290d89dfc4</td>\n",
              "      <td>Buró de Crédito</td>\n",
              "      <td>gmail.com</td>\n",
              "      <td>19/01/21 9:20</td>\n",
              "      <td>ACTIVO</td>\n",
              "    </tr>\n",
              "    <tr>\n",
              "      <th>1</th>\n",
              "      <td>8d24ef1d52d8</td>\n",
              "      <td>Buró de Crédito</td>\n",
              "      <td>gmail.com</td>\n",
              "      <td>19/01/21 8:28</td>\n",
              "      <td>ACTIVO</td>\n",
              "    </tr>\n",
              "    <tr>\n",
              "      <th>2</th>\n",
              "      <td>a5120d2c47fa</td>\n",
              "      <td>Buró de Crédito</td>\n",
              "      <td>gmail.com</td>\n",
              "      <td>17/01/21 13:36</td>\n",
              "      <td>ACTIVO</td>\n",
              "    </tr>\n",
              "    <tr>\n",
              "      <th>3</th>\n",
              "      <td>5a5d70893606</td>\n",
              "      <td>Buró de Crédito</td>\n",
              "      <td>edubc.mx</td>\n",
              "      <td>20/01/21 9:27</td>\n",
              "      <td>ACTIVO</td>\n",
              "    </tr>\n",
              "    <tr>\n",
              "      <th>4</th>\n",
              "      <td>4a2082948031</td>\n",
              "      <td>Buró de Crédito</td>\n",
              "      <td>gmail.com</td>\n",
              "      <td>21/01/21 14:26</td>\n",
              "      <td>ACTIVO</td>\n",
              "    </tr>\n",
              "  </tbody>\n",
              "</table>\n",
              "</div>"
            ],
            "text/plain": [
              "     id_usuario     Calificadora     Correo  Fecha Consulta Estado usuario\n",
              "0  c2290d89dfc4  Buró de Crédito  gmail.com   19/01/21 9:20         ACTIVO\n",
              "1  8d24ef1d52d8  Buró de Crédito  gmail.com   19/01/21 8:28         ACTIVO\n",
              "2  a5120d2c47fa  Buró de Crédito  gmail.com  17/01/21 13:36         ACTIVO\n",
              "3  5a5d70893606  Buró de Crédito   edubc.mx   20/01/21 9:27         ACTIVO\n",
              "4  4a2082948031  Buró de Crédito  gmail.com  21/01/21 14:26         ACTIVO"
            ]
          },
          "metadata": {
            "tags": []
          },
          "execution_count": 3
        }
      ]
    },
    {
      "cell_type": "code",
      "metadata": {
        "colab": {
          "base_uri": "https://localhost:8080/"
        },
        "id": "f9xBkF-EU6Eo",
        "outputId": "34c0d947-7990-4ed7-ddfe-371e5d9a69f7"
      },
      "source": [
        "df.shape"
      ],
      "execution_count": null,
      "outputs": [
        {
          "output_type": "execute_result",
          "data": {
            "text/plain": [
              "(4022, 5)"
            ]
          },
          "metadata": {
            "tags": []
          },
          "execution_count": 4
        }
      ]
    },
    {
      "cell_type": "markdown",
      "metadata": {
        "id": "MKGak0DJ-Jbh"
      },
      "source": [
        "Extracción de informacion de fechas y horas.\n",
        "Para evaluar la estimación del presupuesto debemos conocer el comportamiento de los usuarios dentro de la plataforma. Extraemos información de valor de la fecha, los cuales son el día de la semana y la hora de conexión. La hora se quiere subdividir en 24 intervalos de 1 hora para mejor comprensión."
      ]
    },
    {
      "cell_type": "code",
      "metadata": {
        "id": "7DTpp8moWRxm"
      },
      "source": [
        "df['Fecha'] = pd.to_datetime(df['Fecha Consulta'] ).dt.date"
      ],
      "execution_count": null,
      "outputs": []
    },
    {
      "cell_type": "code",
      "metadata": {
        "id": "Ock_q26nZhXl"
      },
      "source": [
        "df['Hora'] = pd.to_datetime(df['Fecha Consulta'] ).dt.time"
      ],
      "execution_count": null,
      "outputs": []
    },
    {
      "cell_type": "code",
      "metadata": {
        "id": "5ezJ_2yjuf3D"
      },
      "source": [
        "df11 = df[\"Hora\"].astype(str).str.split(\":\", n = 1, expand = True)"
      ],
      "execution_count": null,
      "outputs": []
    },
    {
      "cell_type": "code",
      "metadata": {
        "id": "nhgPBYr1aX4J"
      },
      "source": [
        "df['Dia'] = pd.to_datetime(df['Fecha Consulta'] ).dt.dayofweek"
      ],
      "execution_count": null,
      "outputs": []
    },
    {
      "cell_type": "code",
      "metadata": {
        "id": "QDczOX6wu_Dy"
      },
      "source": [
        "df['HORAS'] = df11[0]"
      ],
      "execution_count": null,
      "outputs": []
    },
    {
      "cell_type": "code",
      "metadata": {
        "colab": {
          "base_uri": "https://localhost:8080/",
          "height": 204
        },
        "id": "rIhKPTk4W_Vo",
        "outputId": "5340217b-5b39-47a6-cf00-0ea6e853bd3f"
      },
      "source": [
        "df.head()"
      ],
      "execution_count": null,
      "outputs": [
        {
          "output_type": "execute_result",
          "data": {
            "text/html": [
              "<div>\n",
              "<style scoped>\n",
              "    .dataframe tbody tr th:only-of-type {\n",
              "        vertical-align: middle;\n",
              "    }\n",
              "\n",
              "    .dataframe tbody tr th {\n",
              "        vertical-align: top;\n",
              "    }\n",
              "\n",
              "    .dataframe thead th {\n",
              "        text-align: right;\n",
              "    }\n",
              "</style>\n",
              "<table border=\"1\" class=\"dataframe\">\n",
              "  <thead>\n",
              "    <tr style=\"text-align: right;\">\n",
              "      <th></th>\n",
              "      <th>id_usuario</th>\n",
              "      <th>Calificadora</th>\n",
              "      <th>Correo</th>\n",
              "      <th>Fecha Consulta</th>\n",
              "      <th>Estado usuario</th>\n",
              "      <th>Fecha</th>\n",
              "      <th>Hora</th>\n",
              "      <th>Dia</th>\n",
              "      <th>HORAS</th>\n",
              "    </tr>\n",
              "  </thead>\n",
              "  <tbody>\n",
              "    <tr>\n",
              "      <th>0</th>\n",
              "      <td>c2290d89dfc4</td>\n",
              "      <td>Buró de Crédito</td>\n",
              "      <td>gmail.com</td>\n",
              "      <td>19/01/21 9:20</td>\n",
              "      <td>ACTIVO</td>\n",
              "      <td>2021-01-19</td>\n",
              "      <td>09:20:00</td>\n",
              "      <td>1</td>\n",
              "      <td>09</td>\n",
              "    </tr>\n",
              "    <tr>\n",
              "      <th>1</th>\n",
              "      <td>8d24ef1d52d8</td>\n",
              "      <td>Buró de Crédito</td>\n",
              "      <td>gmail.com</td>\n",
              "      <td>19/01/21 8:28</td>\n",
              "      <td>ACTIVO</td>\n",
              "      <td>2021-01-19</td>\n",
              "      <td>08:28:00</td>\n",
              "      <td>1</td>\n",
              "      <td>08</td>\n",
              "    </tr>\n",
              "    <tr>\n",
              "      <th>2</th>\n",
              "      <td>a5120d2c47fa</td>\n",
              "      <td>Buró de Crédito</td>\n",
              "      <td>gmail.com</td>\n",
              "      <td>17/01/21 13:36</td>\n",
              "      <td>ACTIVO</td>\n",
              "      <td>2021-01-17</td>\n",
              "      <td>13:36:00</td>\n",
              "      <td>6</td>\n",
              "      <td>13</td>\n",
              "    </tr>\n",
              "    <tr>\n",
              "      <th>3</th>\n",
              "      <td>5a5d70893606</td>\n",
              "      <td>Buró de Crédito</td>\n",
              "      <td>edubc.mx</td>\n",
              "      <td>20/01/21 9:27</td>\n",
              "      <td>ACTIVO</td>\n",
              "      <td>2021-01-20</td>\n",
              "      <td>09:27:00</td>\n",
              "      <td>2</td>\n",
              "      <td>09</td>\n",
              "    </tr>\n",
              "    <tr>\n",
              "      <th>4</th>\n",
              "      <td>4a2082948031</td>\n",
              "      <td>Buró de Crédito</td>\n",
              "      <td>gmail.com</td>\n",
              "      <td>21/01/21 14:26</td>\n",
              "      <td>ACTIVO</td>\n",
              "      <td>2021-01-21</td>\n",
              "      <td>14:26:00</td>\n",
              "      <td>3</td>\n",
              "      <td>14</td>\n",
              "    </tr>\n",
              "  </tbody>\n",
              "</table>\n",
              "</div>"
            ],
            "text/plain": [
              "     id_usuario     Calificadora     Correo  ...      Hora Dia HORAS\n",
              "0  c2290d89dfc4  Buró de Crédito  gmail.com  ...  09:20:00   1    09\n",
              "1  8d24ef1d52d8  Buró de Crédito  gmail.com  ...  08:28:00   1    08\n",
              "2  a5120d2c47fa  Buró de Crédito  gmail.com  ...  13:36:00   6    13\n",
              "3  5a5d70893606  Buró de Crédito   edubc.mx  ...  09:27:00   2    09\n",
              "4  4a2082948031  Buró de Crédito  gmail.com  ...  14:26:00   3    14\n",
              "\n",
              "[5 rows x 9 columns]"
            ]
          },
          "metadata": {
            "tags": []
          },
          "execution_count": 10
        }
      ]
    },
    {
      "cell_type": "code",
      "metadata": {
        "id": "Gqjqf-qGrLaL"
      },
      "source": [
        "dias1 = df.groupby('Dia').count()"
      ],
      "execution_count": null,
      "outputs": []
    },
    {
      "cell_type": "code",
      "metadata": {
        "id": "jsnpLjR1rhPi"
      },
      "source": [
        "dias1['Dia'] = dias1.index"
      ],
      "execution_count": null,
      "outputs": []
    },
    {
      "cell_type": "code",
      "metadata": {
        "colab": {
          "base_uri": "https://localhost:8080/"
        },
        "id": "lzeWrHNnqZhA",
        "outputId": "f1f29da4-9eef-4f8d-8756-2d3d2260c63e"
      },
      "source": [
        "print(dias1)"
      ],
      "execution_count": null,
      "outputs": [
        {
          "output_type": "stream",
          "text": [
            "     id_usuario  Calificadora  Correo  Fecha Consulta  ...  Fecha  Hora  HORAS  Dia\n",
            "Dia                                                    ...                         \n",
            "0           682           682     664             682  ...    682   682    682    0\n",
            "1           748           748     748             748  ...    748   748    748    1\n",
            "2           280           280     280             280  ...    280   280    280    2\n",
            "3           591           591     591             591  ...    591   591    591    3\n",
            "4           492           492     492             492  ...    492   492    492    4\n",
            "5           499           499     499             499  ...    499   499    499    5\n",
            "6           730           730     729             730  ...    730   730    730    6\n",
            "\n",
            "[7 rows x 9 columns]\n"
          ],
          "name": "stdout"
        }
      ]
    },
    {
      "cell_type": "markdown",
      "metadata": {
        "id": "2cRhIf8sqnaC"
      },
      "source": [
        "El top 3 de los días más frecuentes son:\n",
        "\n",
        "\n",
        "1.   Martes (748 conexiones)\n",
        "2.   Domingo (730 conexiones)\n",
        "3.   Lunes (682 conexiones)\n",
        "\n",
        "El miércoles es el día en que menos visitaron la página web con 280 conexiones en total.\n",
        "\n"
      ]
    },
    {
      "cell_type": "code",
      "metadata": {
        "colab": {
          "base_uri": "https://localhost:8080/",
          "height": 281
        },
        "id": "GBLprJ8jrEVL",
        "outputId": "9f9d59a1-19b3-481d-9f01-92e674ec1082"
      },
      "source": [
        "objects = ('Lunes', 'Martes', 'Miercoles', 'Jueves', 'Viernes', 'Sabado','Domingo')\n",
        "y_pos = dias1['Dia']\n",
        "performance = dias1['HORAS']\n",
        "plt.bar(y_pos, performance)\n",
        "plt.xticks(y_pos, objects)\n",
        "plt.ylabel('Conexión')\n",
        "plt.title('Días')\n",
        "plt.show()"
      ],
      "execution_count": null,
      "outputs": [
        {
          "output_type": "display_data",
          "data": {
            "image/png": "[encoded data removed]",
            "text/plain": [
              "<Figure size 432x288 with 1 Axes>"
            ]
          },
          "metadata": {
            "tags": [],
            "needs_background": "light"
          }
        }
      ]
    },
    {
      "cell_type": "markdown",
      "metadata": {
        "id": "KS4GMxHstdWo"
      },
      "source": [
        "Se realiza otra agrupación para saber la cantidad de conexiones, de acuerdo a la hora de consulta."
      ]
    },
    {
      "cell_type": "code",
      "metadata": {
        "id": "XqP7C31w0iMm"
      },
      "source": [
        "hora = df.groupby(['Fecha','HORAS']).count()\n",
        "hora['HORAS'] = hora.index"
      ],
      "execution_count": null,
      "outputs": []
    },
    {
      "cell_type": "markdown",
      "metadata": {
        "id": "7PvVW5XFrsDI"
      },
      "source": [
        "Exploramos la información de las visitas por día de la semana y por franja horaria. Se agrupa de acuerdo a cada combinación de día y hora, la cantidad de conexiones existentes."
      ]
    },
    {
      "cell_type": "code",
      "metadata": {
        "colab": {
          "base_uri": "https://localhost:8080/",
          "height": 419
        },
        "id": "TIP11EcA0o2e",
        "outputId": "d4103c81-c49a-494b-eafd-b68039cc7b84"
      },
      "source": [
        "hora = hora[['id_usuario']]\n",
        "hora = hora.reset_index()\n",
        "hora"
      ],
      "execution_count": null,
      "outputs": [
        {
          "output_type": "execute_result",
          "data": {
            "text/html": [
              "<div>\n",
              "<style scoped>\n",
              "    .dataframe tbody tr th:only-of-type {\n",
              "        vertical-align: middle;\n",
              "    }\n",
              "\n",
              "    .dataframe tbody tr th {\n",
              "        vertical-align: top;\n",
              "    }\n",
              "\n",
              "    .dataframe thead th {\n",
              "        text-align: right;\n",
              "    }\n",
              "</style>\n",
              "<table border=\"1\" class=\"dataframe\">\n",
              "  <thead>\n",
              "    <tr style=\"text-align: right;\">\n",
              "      <th></th>\n",
              "      <th>Fecha</th>\n",
              "      <th>HORAS</th>\n",
              "      <th>id_usuario</th>\n",
              "    </tr>\n",
              "  </thead>\n",
              "  <tbody>\n",
              "    <tr>\n",
              "      <th>0</th>\n",
              "      <td>2020-12-21</td>\n",
              "      <td>20</td>\n",
              "      <td>1</td>\n",
              "    </tr>\n",
              "    <tr>\n",
              "      <th>1</th>\n",
              "      <td>2020-12-21</td>\n",
              "      <td>21</td>\n",
              "      <td>2</td>\n",
              "    </tr>\n",
              "    <tr>\n",
              "      <th>2</th>\n",
              "      <td>2020-12-22</td>\n",
              "      <td>08</td>\n",
              "      <td>3</td>\n",
              "    </tr>\n",
              "    <tr>\n",
              "      <th>3</th>\n",
              "      <td>2020-12-22</td>\n",
              "      <td>09</td>\n",
              "      <td>1</td>\n",
              "    </tr>\n",
              "    <tr>\n",
              "      <th>4</th>\n",
              "      <td>2020-12-22</td>\n",
              "      <td>10</td>\n",
              "      <td>1</td>\n",
              "    </tr>\n",
              "    <tr>\n",
              "      <th>...</th>\n",
              "      <td>...</td>\n",
              "      <td>...</td>\n",
              "      <td>...</td>\n",
              "    </tr>\n",
              "    <tr>\n",
              "      <th>483</th>\n",
              "      <td>2021-11-01</td>\n",
              "      <td>12</td>\n",
              "      <td>12</td>\n",
              "    </tr>\n",
              "    <tr>\n",
              "      <th>484</th>\n",
              "      <td>2021-11-01</td>\n",
              "      <td>13</td>\n",
              "      <td>7</td>\n",
              "    </tr>\n",
              "    <tr>\n",
              "      <th>485</th>\n",
              "      <td>2021-11-01</td>\n",
              "      <td>14</td>\n",
              "      <td>6</td>\n",
              "    </tr>\n",
              "    <tr>\n",
              "      <th>486</th>\n",
              "      <td>2021-11-01</td>\n",
              "      <td>15</td>\n",
              "      <td>6</td>\n",
              "    </tr>\n",
              "    <tr>\n",
              "      <th>487</th>\n",
              "      <td>2021-11-01</td>\n",
              "      <td>16</td>\n",
              "      <td>13</td>\n",
              "    </tr>\n",
              "  </tbody>\n",
              "</table>\n",
              "<p>488 rows × 3 columns</p>\n",
              "</div>"
            ],
            "text/plain": [
              "          Fecha HORAS  id_usuario\n",
              "0    2020-12-21    20           1\n",
              "1    2020-12-21    21           2\n",
              "2    2020-12-22    08           3\n",
              "3    2020-12-22    09           1\n",
              "4    2020-12-22    10           1\n",
              "..          ...   ...         ...\n",
              "483  2021-11-01    12          12\n",
              "484  2021-11-01    13           7\n",
              "485  2021-11-01    14           6\n",
              "486  2021-11-01    15           6\n",
              "487  2021-11-01    16          13\n",
              "\n",
              "[488 rows x 3 columns]"
            ]
          },
          "metadata": {
            "tags": []
          },
          "execution_count": 16
        }
      ]
    },
    {
      "cell_type": "markdown",
      "metadata": {
        "id": "Dj8ZbV9YP7aC"
      },
      "source": [
        "**Uniendo información de interés**\n"
      ]
    },
    {
      "cell_type": "markdown",
      "metadata": {
        "id": "RpWc5QK5QY-v"
      },
      "source": [
        "Los resultados de las conexiones por fecha y hora del día, fueron unidos a la tabla inicial de acuerdo a su fecha y franja horaria."
      ]
    },
    {
      "cell_type": "code",
      "metadata": {
        "colab": {
          "base_uri": "https://localhost:8080/",
          "height": 419
        },
        "id": "qTZ2V_eYkA6I",
        "outputId": "1fa422e6-a52e-4934-812d-86173fcd8575"
      },
      "source": [
        "left_join = pd.merge(df,hora, on =['Fecha','HORAS'], how = 'left')\n",
        "left_join"
      ],
      "execution_count": null,
      "outputs": [
        {
          "output_type": "execute_result",
          "data": {
            "text/html": [
              "<div>\n",
              "<style scoped>\n",
              "    .dataframe tbody tr th:only-of-type {\n",
              "        vertical-align: middle;\n",
              "    }\n",
              "\n",
              "    .dataframe tbody tr th {\n",
              "        vertical-align: top;\n",
              "    }\n",
              "\n",
              "    .dataframe thead th {\n",
              "        text-align: right;\n",
              "    }\n",
              "</style>\n",
              "<table border=\"1\" class=\"dataframe\">\n",
              "  <thead>\n",
              "    <tr style=\"text-align: right;\">\n",
              "      <th></th>\n",
              "      <th>id_usuario_x</th>\n",
              "      <th>Calificadora</th>\n",
              "      <th>Correo</th>\n",
              "      <th>Fecha Consulta</th>\n",
              "      <th>Estado usuario</th>\n",
              "      <th>Fecha</th>\n",
              "      <th>Hora</th>\n",
              "      <th>Dia</th>\n",
              "      <th>HORAS</th>\n",
              "      <th>id_usuario_y</th>\n",
              "    </tr>\n",
              "  </thead>\n",
              "  <tbody>\n",
              "    <tr>\n",
              "      <th>0</th>\n",
              "      <td>c2290d89dfc4</td>\n",
              "      <td>Buró de Crédito</td>\n",
              "      <td>gmail.com</td>\n",
              "      <td>19/01/21 9:20</td>\n",
              "      <td>ACTIVO</td>\n",
              "      <td>2021-01-19</td>\n",
              "      <td>09:20:00</td>\n",
              "      <td>1</td>\n",
              "      <td>09</td>\n",
              "      <td>22</td>\n",
              "    </tr>\n",
              "    <tr>\n",
              "      <th>1</th>\n",
              "      <td>8d24ef1d52d8</td>\n",
              "      <td>Buró de Crédito</td>\n",
              "      <td>gmail.com</td>\n",
              "      <td>19/01/21 8:28</td>\n",
              "      <td>ACTIVO</td>\n",
              "      <td>2021-01-19</td>\n",
              "      <td>08:28:00</td>\n",
              "      <td>1</td>\n",
              "      <td>08</td>\n",
              "      <td>24</td>\n",
              "    </tr>\n",
              "    <tr>\n",
              "      <th>2</th>\n",
              "      <td>a5120d2c47fa</td>\n",
              "      <td>Buró de Crédito</td>\n",
              "      <td>gmail.com</td>\n",
              "      <td>17/01/21 13:36</td>\n",
              "      <td>ACTIVO</td>\n",
              "      <td>2021-01-17</td>\n",
              "      <td>13:36:00</td>\n",
              "      <td>6</td>\n",
              "      <td>13</td>\n",
              "      <td>16</td>\n",
              "    </tr>\n",
              "    <tr>\n",
              "      <th>3</th>\n",
              "      <td>5a5d70893606</td>\n",
              "      <td>Buró de Crédito</td>\n",
              "      <td>edubc.mx</td>\n",
              "      <td>20/01/21 9:27</td>\n",
              "      <td>ACTIVO</td>\n",
              "      <td>2021-01-20</td>\n",
              "      <td>09:27:00</td>\n",
              "      <td>2</td>\n",
              "      <td>09</td>\n",
              "      <td>5</td>\n",
              "    </tr>\n",
              "    <tr>\n",
              "      <th>4</th>\n",
              "      <td>4a2082948031</td>\n",
              "      <td>Buró de Crédito</td>\n",
              "      <td>gmail.com</td>\n",
              "      <td>21/01/21 14:26</td>\n",
              "      <td>ACTIVO</td>\n",
              "      <td>2021-01-21</td>\n",
              "      <td>14:26:00</td>\n",
              "      <td>3</td>\n",
              "      <td>14</td>\n",
              "      <td>2</td>\n",
              "    </tr>\n",
              "    <tr>\n",
              "      <th>...</th>\n",
              "      <td>...</td>\n",
              "      <td>...</td>\n",
              "      <td>...</td>\n",
              "      <td>...</td>\n",
              "      <td>...</td>\n",
              "      <td>...</td>\n",
              "      <td>...</td>\n",
              "      <td>...</td>\n",
              "      <td>...</td>\n",
              "      <td>...</td>\n",
              "    </tr>\n",
              "    <tr>\n",
              "      <th>4017</th>\n",
              "      <td>a7b8edae9a16</td>\n",
              "      <td>Buró de Crédito</td>\n",
              "      <td>gmail.com</td>\n",
              "      <td>6/01/21 11:10</td>\n",
              "      <td>SIN VALIDAR</td>\n",
              "      <td>2021-06-01</td>\n",
              "      <td>11:10:00</td>\n",
              "      <td>1</td>\n",
              "      <td>11</td>\n",
              "      <td>6</td>\n",
              "    </tr>\n",
              "    <tr>\n",
              "      <th>4018</th>\n",
              "      <td>4b636433f200</td>\n",
              "      <td>Buró de Crédito</td>\n",
              "      <td>gmail.com</td>\n",
              "      <td>6/01/21 14:54</td>\n",
              "      <td>SIN VALIDAR</td>\n",
              "      <td>2021-06-01</td>\n",
              "      <td>14:54:00</td>\n",
              "      <td>1</td>\n",
              "      <td>14</td>\n",
              "      <td>4</td>\n",
              "    </tr>\n",
              "    <tr>\n",
              "      <th>4019</th>\n",
              "      <td>4b636433f200</td>\n",
              "      <td>Buró de Crédito</td>\n",
              "      <td>gmail.com</td>\n",
              "      <td>6/01/21 23:43</td>\n",
              "      <td>SIN VALIDAR</td>\n",
              "      <td>2021-06-01</td>\n",
              "      <td>23:43:00</td>\n",
              "      <td>1</td>\n",
              "      <td>23</td>\n",
              "      <td>5</td>\n",
              "    </tr>\n",
              "    <tr>\n",
              "      <th>4020</th>\n",
              "      <td>a7b8edae9a16</td>\n",
              "      <td>Buró de Crédito</td>\n",
              "      <td>gmail.com</td>\n",
              "      <td>6/01/21 21:21</td>\n",
              "      <td>SIN VALIDAR</td>\n",
              "      <td>2021-06-01</td>\n",
              "      <td>21:21:00</td>\n",
              "      <td>1</td>\n",
              "      <td>21</td>\n",
              "      <td>5</td>\n",
              "    </tr>\n",
              "    <tr>\n",
              "      <th>4021</th>\n",
              "      <td>c5730eda6be5</td>\n",
              "      <td>Buró de Crédito</td>\n",
              "      <td>gmail.com</td>\n",
              "      <td>17/01/21 20:59</td>\n",
              "      <td>SIN VALIDAR</td>\n",
              "      <td>2021-01-17</td>\n",
              "      <td>20:59:00</td>\n",
              "      <td>6</td>\n",
              "      <td>20</td>\n",
              "      <td>15</td>\n",
              "    </tr>\n",
              "  </tbody>\n",
              "</table>\n",
              "<p>4022 rows × 10 columns</p>\n",
              "</div>"
            ],
            "text/plain": [
              "      id_usuario_x     Calificadora     Correo  ... Dia HORAS id_usuario_y\n",
              "0     c2290d89dfc4  Buró de Crédito  gmail.com  ...   1    09           22\n",
              "1     8d24ef1d52d8  Buró de Crédito  gmail.com  ...   1    08           24\n",
              "2     a5120d2c47fa  Buró de Crédito  gmail.com  ...   6    13           16\n",
              "3     5a5d70893606  Buró de Crédito   edubc.mx  ...   2    09            5\n",
              "4     4a2082948031  Buró de Crédito  gmail.com  ...   3    14            2\n",
              "...            ...              ...        ...  ...  ..   ...          ...\n",
              "4017  a7b8edae9a16  Buró de Crédito  gmail.com  ...   1    11            6\n",
              "4018  4b636433f200  Buró de Crédito  gmail.com  ...   1    14            4\n",
              "4019  4b636433f200  Buró de Crédito  gmail.com  ...   1    23            5\n",
              "4020  a7b8edae9a16  Buró de Crédito  gmail.com  ...   1    21            5\n",
              "4021  c5730eda6be5  Buró de Crédito  gmail.com  ...   6    20           15\n",
              "\n",
              "[4022 rows x 10 columns]"
            ]
          },
          "metadata": {
            "tags": []
          },
          "execution_count": 17
        }
      ]
    },
    {
      "cell_type": "markdown",
      "metadata": {
        "id": "m733oLImy08v"
      },
      "source": [
        "El 17, 18 y 19 de enero fueron los días que los usuarios tuvieron mayor interacción con la plataforma."
      ]
    },
    {
      "cell_type": "markdown",
      "metadata": {
        "id": "uxkJepgo0Q8h"
      },
      "source": [
        "**Definición del conjunto de entrenamiento y validación**\n"
      ]
    },
    {
      "cell_type": "markdown",
      "metadata": {
        "id": "oVdqHtD80dae"
      },
      "source": [
        "Se determina el 67% de los datos para el conjunto de entrenamiento, y el 33% restante para el conjunto de validación."
      ]
    },
    {
      "cell_type": "code",
      "metadata": {
        "id": "DG2sZ1TGE5EX"
      },
      "source": [
        "X_train, X_test, y_train, y_test = train_test_split(left_join[['id_usuario_y','Dia']], left_join['HORAS'], test_size=0.33, random_state=42)"
      ],
      "execution_count": null,
      "outputs": []
    },
    {
      "cell_type": "markdown",
      "metadata": {
        "id": "0CPyHcwp06DL"
      },
      "source": [
        "Se define inicialmente los modelos de regresión lineal y árbol de decisión para ver los desempeños iniciales"
      ]
    },
    {
      "cell_type": "markdown",
      "metadata": {
        "id": "jSfdOT4URqly"
      },
      "source": [
        "**Regresión Lineal**"
      ]
    },
    {
      "cell_type": "markdown",
      "metadata": {
        "id": "kS1OxTUCRuEw"
      },
      "source": [
        "Se ajusta el modelo con los conjuntos de entrenamiento"
      ]
    },
    {
      "cell_type": "code",
      "metadata": {
        "id": "9zhu8-nX1TOY"
      },
      "source": [
        "lr = LinearRegression()"
      ],
      "execution_count": null,
      "outputs": []
    },
    {
      "cell_type": "code",
      "metadata": {
        "colab": {
          "base_uri": "https://localhost:8080/"
        },
        "id": "lqjzDjDzG7Ji",
        "outputId": "7ecc04e2-7865-4c78-e635-4efe46864c9d"
      },
      "source": [
        "lr.fit(X_train, y_train)"
      ],
      "execution_count": null,
      "outputs": [
        {
          "output_type": "execute_result",
          "data": {
            "text/plain": [
              "LinearRegression(copy_X=True, fit_intercept=True, n_jobs=None, normalize=False)"
            ]
          },
          "metadata": {
            "tags": []
          },
          "execution_count": 20
        }
      ]
    },
    {
      "cell_type": "code",
      "metadata": {
        "id": "qxel1a0Ztq7j"
      },
      "source": [
        "y_1 = lr.predict(X_test)"
      ],
      "execution_count": null,
      "outputs": []
    },
    {
      "cell_type": "markdown",
      "metadata": {
        "id": "kxD_-TkqR0kG"
      },
      "source": [
        "Evaluación del modelo de regresión lineal. Se utiliza el estadistico R2 para evaluar su desempeño"
      ]
    },
    {
      "cell_type": "code",
      "metadata": {
        "colab": {
          "base_uri": "https://localhost:8080/"
        },
        "id": "7mBAhf7Ut85G",
        "outputId": "3a5b323c-c1fe-41d7-9877-28709238cd13"
      },
      "source": [
        "dt_scores = cross_val_score(lr, X_train, y_train, cv = 7)\n",
        "print(\"mean cross validation score: {}\".format(np.mean(dt_scores)))\n",
        "print(\"score without cv: {}\".format(lr.score(X_train, y_train)))\n",
        "\n",
        "# on the test or hold-out set\n",
        "\n",
        "print(r2_score(y_test, lr.predict(X_test)))\n",
        "print(lr.score(X_test, y_test))"
      ],
      "execution_count": null,
      "outputs": [
        {
          "output_type": "stream",
          "text": [
            "mean cross validation score: 0.13646030769009168\n",
            "score without cv: 0.13904717603745353\n",
            "0.1645270671801783\n",
            "0.1645270671801783\n"
          ],
          "name": "stdout"
        }
      ]
    },
    {
      "cell_type": "markdown",
      "metadata": {
        "id": "p24AInVASC6z"
      },
      "source": [
        "De lo anterior se observa que no arroja buenos resultados. Se quiere volver a ajustar los datos con otro modelo"
      ]
    },
    {
      "cell_type": "markdown",
      "metadata": {
        "id": "WqSvnevVuuai"
      },
      "source": [
        "**Árbol de Decisiones**"
      ]
    },
    {
      "cell_type": "markdown",
      "metadata": {
        "id": "cFGaEp3zSJNe"
      },
      "source": [
        "Se define el modelo de arbol de decisiones y se ajusta con el conjunto de entrenamiento"
      ]
    },
    {
      "cell_type": "code",
      "metadata": {
        "id": "5MNtsMNsumsM"
      },
      "source": [
        "regressor = DecisionTreeRegressor(random_state=0)"
      ],
      "execution_count": null,
      "outputs": []
    },
    {
      "cell_type": "code",
      "metadata": {
        "colab": {
          "base_uri": "https://localhost:8080/"
        },
        "id": "sbBHMQGEuoYs",
        "outputId": "e0bc0ca5-b5fb-4ddb-93e7-2bac822e6417"
      },
      "source": [
        "regressor.fit(X_train, y_train)"
      ],
      "execution_count": null,
      "outputs": [
        {
          "output_type": "execute_result",
          "data": {
            "text/plain": [
              "DecisionTreeRegressor(ccp_alpha=0.0, criterion='mse', max_depth=None,\n",
              "                      max_features=None, max_leaf_nodes=None,\n",
              "                      min_impurity_decrease=0.0, min_impurity_split=None,\n",
              "                      min_samples_leaf=1, min_samples_split=2,\n",
              "                      min_weight_fraction_leaf=0.0, presort='deprecated',\n",
              "                      random_state=0, splitter='best')"
            ]
          },
          "metadata": {
            "tags": []
          },
          "execution_count": 24
        }
      ]
    },
    {
      "cell_type": "code",
      "metadata": {
        "id": "ehnZ10JnurWO"
      },
      "source": [
        "y_2 = regressor.predict(X_test)"
      ],
      "execution_count": null,
      "outputs": []
    },
    {
      "cell_type": "markdown",
      "metadata": {
        "id": "dELwNelCSv8C"
      },
      "source": [
        "Se evalúa su desempeño con las mismas métricas del modelo anterior"
      ]
    },
    {
      "cell_type": "code",
      "metadata": {
        "colab": {
          "base_uri": "https://localhost:8080/"
        },
        "id": "tVyL8Bgcus5n",
        "outputId": "a58786db-4dba-4998-eb89-1d7b3785d972"
      },
      "source": [
        "dt_scores = cross_val_score(regressor, X_train, y_train, cv = 7)\n",
        "print(\"mean cross validation score: {}\".format(np.mean(dt_scores)))\n",
        "print(\"score without cv: {}\".format(regressor.score(X_train, y_train)))\n",
        "\n",
        "# on the test or hold-out set\n",
        "\n",
        "print(r2_score(y_test, regressor.predict(X_test)))\n",
        "print(regressor.score(X_test, y_test))"
      ],
      "execution_count": null,
      "outputs": [
        {
          "output_type": "stream",
          "text": [
            "mean cross validation score: 0.5905162451625249\n",
            "score without cv: 0.6473981695077788\n",
            "0.6067798697565447\n",
            "0.6067798697565447\n"
          ],
          "name": "stdout"
        }
      ]
    },
    {
      "cell_type": "markdown",
      "metadata": {
        "id": "BmfH8OXlS8XN"
      },
      "source": [
        "Se observa una mejora significativa frente al modelo de regresión lineal. Sin embargo, se quiere mejorar un poco el desempeño con modelos más robustos."
      ]
    },
    {
      "cell_type": "markdown",
      "metadata": {
        "id": "CgyEE5ywxipf"
      },
      "source": [
        "**Random Forest**"
      ]
    },
    {
      "cell_type": "markdown",
      "metadata": {
        "id": "2NbWziQLTnU3"
      },
      "source": [
        "Se implementa el modelo de bosques aleatorios para buscar un mejor desempeño al arbol de decisiones sencillo. Se utilizan las mismas métricas y los mismos pasos para definir, entrenar y validar el modelo"
      ]
    },
    {
      "cell_type": "code",
      "metadata": {
        "id": "PCbYL90_wqGh"
      },
      "source": [
        "rf = RandomForestRegressor(random_state=0)"
      ],
      "execution_count": null,
      "outputs": []
    },
    {
      "cell_type": "code",
      "metadata": {
        "colab": {
          "base_uri": "https://localhost:8080/"
        },
        "id": "a6N9JJnsxpXy",
        "outputId": "2a215dc3-ed5d-47e7-b7d7-fc1e50f10b99"
      },
      "source": [
        "rf.fit(X_train, y_train)"
      ],
      "execution_count": null,
      "outputs": [
        {
          "output_type": "execute_result",
          "data": {
            "text/plain": [
              "RandomForestRegressor(bootstrap=True, ccp_alpha=0.0, criterion='mse',\n",
              "                      max_depth=None, max_features='auto', max_leaf_nodes=None,\n",
              "                      max_samples=None, min_impurity_decrease=0.0,\n",
              "                      min_impurity_split=None, min_samples_leaf=1,\n",
              "                      min_samples_split=2, min_weight_fraction_leaf=0.0,\n",
              "                      n_estimators=100, n_jobs=None, oob_score=False,\n",
              "                      random_state=0, verbose=0, warm_start=False)"
            ]
          },
          "metadata": {
            "tags": []
          },
          "execution_count": 28
        }
      ]
    },
    {
      "cell_type": "code",
      "metadata": {
        "id": "39CRIeX9xsmM"
      },
      "source": [
        "y_3 = rf.predict(X_test)"
      ],
      "execution_count": null,
      "outputs": []
    },
    {
      "cell_type": "code",
      "metadata": {
        "colab": {
          "base_uri": "https://localhost:8080/"
        },
        "id": "OSDxQE05xuvL",
        "outputId": "f424a238-6c74-4942-90a7-9d883b5d35cd"
      },
      "source": [
        "dt_scores = cross_val_score(rf, X_train, y_train, cv = 7)\n",
        "print(\"mean cross validation score: {}\".format(np.mean(dt_scores)))\n",
        "print(\"score without cv: {}\".format(rf.score(X_train, y_train)))\n",
        "\n",
        "# on the test or hold-out set\n",
        "\n",
        "print(r2_score(y_test, rf.predict(X_test)))\n",
        "print(rf.score(X_test, y_test))"
      ],
      "execution_count": null,
      "outputs": [
        {
          "output_type": "stream",
          "text": [
            "mean cross validation score: 0.5915548675830886\n",
            "score without cv: 0.6472082868149528\n",
            "0.6062857890828071\n",
            "0.6062857890828071\n"
          ],
          "name": "stdout"
        }
      ]
    },
    {
      "cell_type": "markdown",
      "metadata": {
        "id": "USO-bwqgT6uv"
      },
      "source": [
        "El resultado sin modificar los hiperparámetros por defecto resulta con un desempeño muy similar al modelo de árbol de decisión. Se buscará optimizar los parámetros al random forest"
      ]
    },
    {
      "cell_type": "markdown",
      "metadata": {
        "id": "_tgm3AjozjrW"
      },
      "source": [
        "**Random Forest Optimizado**"
      ]
    },
    {
      "cell_type": "markdown",
      "metadata": {
        "id": "5OyAxd2DVuvI"
      },
      "source": [
        "Para optimizar los hiperparametros, se define una cuadrícula aleatoria, donde se le dan valores iniciales a los hiperparámetros tales como las características a considerar, el número maximo de niveles en cada arbol, el número minimo de muestras requeridas para separar un nodo, y el método para entrenar cada muestra en los árboles"
      ]
    },
    {
      "cell_type": "code",
      "metadata": {
        "colab": {
          "base_uri": "https://localhost:8080/"
        },
        "id": "mO5xSvqpzm26",
        "outputId": "1583ffc5-dcc8-42ab-f77a-11d1cfff4363"
      },
      "source": [
        "from sklearn.model_selection import RandomizedSearchCV\n",
        "# Número de árboles\n",
        "n_estimators = [int(x) for x in np.linspace(start = 200, stop = 2000, num = 10)]\n",
        "# Caracteristicas a considerar\n",
        "max_features = ['auto', 'sqrt']\n",
        "# número máximo de niveles en un árbol\n",
        "max_depth = [int(x) for x in np.linspace(10, 110, num = 11)]\n",
        "max_depth.append(None)\n",
        "# Número mínimo de muestras requeridas para separar un nodo\n",
        "min_samples_split = [2, 5, 10]\n",
        "# Número mínimo de muestras requeridas en cada nodo hoja\n",
        "min_samples_leaf = [1, 2, 4]\n",
        "# Método para seleccionar muestras para entrenar cada árbol\n",
        "bootstrap = [True, False]\n",
        "# Crear una cuadrícula aleatoria\n",
        "random_grid = {'n_estimators': n_estimators,\n",
        "               'max_features': max_features,\n",
        "               'max_depth': max_depth,\n",
        "               'min_samples_split': min_samples_split,\n",
        "               'min_samples_leaf': min_samples_leaf,\n",
        "               'bootstrap': bootstrap}\n",
        "print(random_grid)"
      ],
      "execution_count": null,
      "outputs": [
        {
          "output_type": "stream",
          "text": [
            "{'n_estimators': [200, 400, 600, 800, 1000, 1200, 1400, 1600, 1800, 2000], 'max_features': ['auto', 'sqrt'], 'max_depth': [10, 20, 30, 40, 50, 60, 70, 80, 90, 100, 110, None], 'min_samples_split': [2, 5, 10], 'min_samples_leaf': [1, 2, 4], 'bootstrap': [True, False]}\n"
          ],
          "name": "stdout"
        }
      ]
    },
    {
      "cell_type": "markdown",
      "metadata": {
        "id": "rT3QVkcIYQ4P"
      },
      "source": [
        "Se define el modelo base para optimizar, en este caso el random forest regressor. Luego se llama el método RandomizedSearchCV que crea e itera los valores de los hiperparámetros de estudio, con este modelo se entrena el conjunto de entrenamiento"
      ]
    },
    {
      "cell_type": "code",
      "metadata": {
        "colab": {
          "base_uri": "https://localhost:8080/"
        },
        "id": "On3yMKk5zxj2",
        "outputId": "1cdb15f2-e81b-4699-f810-409176ed065c"
      },
      "source": [
        "# Se crea el modelo base para ajustar\n",
        "rfo = RandomForestRegressor()\n",
        "# Se ahce una búsqueda aleatoria de pa´rametros, usando validación cruzada \n",
        "# Se realiza una búsqueda a través de 100 combinaciones diferentes\n",
        "rf_random = RandomizedSearchCV(estimator = rfo, param_distributions = random_grid, n_iter = 100, cv = 3, verbose=2, random_state=42, n_jobs = -1)\n",
        "# se ajusta el modelo de búsqueda en los datos\n",
        "rf_random.fit(X_train, y_train)"
      ],
      "execution_count": null,
      "outputs": [
        {
          "output_type": "stream",
          "text": [
            "Fitting 3 folds for each of 100 candidates, totalling 300 fits\n"
          ],
          "name": "stdout"
        },
        {
          "output_type": "stream",
          "text": [
            "[Parallel(n_jobs=-1)]: Using backend LokyBackend with 2 concurrent workers.\n",
            "[Parallel(n_jobs=-1)]: Done  37 tasks      | elapsed:  1.1min\n",
            "[Parallel(n_jobs=-1)]: Done 158 tasks      | elapsed:  4.5min\n",
            "[Parallel(n_jobs=-1)]: Done 300 out of 300 | elapsed:  8.6min finished\n"
          ],
          "name": "stderr"
        },
        {
          "output_type": "execute_result",
          "data": {
            "text/plain": [
              "RandomizedSearchCV(cv=3, error_score=nan,\n",
              "                   estimator=RandomForestRegressor(bootstrap=True,\n",
              "                                                   ccp_alpha=0.0,\n",
              "                                                   criterion='mse',\n",
              "                                                   max_depth=None,\n",
              "                                                   max_features='auto',\n",
              "                                                   max_leaf_nodes=None,\n",
              "                                                   max_samples=None,\n",
              "                                                   min_impurity_decrease=0.0,\n",
              "                                                   min_impurity_split=None,\n",
              "                                                   min_samples_leaf=1,\n",
              "                                                   min_samples_split=2,\n",
              "                                                   min_weight_fraction_leaf=0.0,\n",
              "                                                   n_estimators=100,\n",
              "                                                   n_jobs=None, oob_score=Fals...\n",
              "                   param_distributions={'bootstrap': [True, False],\n",
              "                                        'max_depth': [10, 20, 30, 40, 50, 60,\n",
              "                                                      70, 80, 90, 100, 110,\n",
              "                                                      None],\n",
              "                                        'max_features': ['auto', 'sqrt'],\n",
              "                                        'min_samples_leaf': [1, 2, 4],\n",
              "                                        'min_samples_split': [2, 5, 10],\n",
              "                                        'n_estimators': [200, 400, 600, 800,\n",
              "                                                         1000, 1200, 1400, 1600,\n",
              "                                                         1800, 2000]},\n",
              "                   pre_dispatch='2*n_jobs', random_state=42, refit=True,\n",
              "                   return_train_score=False, scoring=None, verbose=2)"
            ]
          },
          "metadata": {
            "tags": []
          },
          "execution_count": 146
        }
      ]
    },
    {
      "cell_type": "markdown",
      "metadata": {
        "id": "v7akEcDGY6aU"
      },
      "source": [
        "Este proceso tomó alrededor de 20 minutos para entrenar y ajustar"
      ]
    },
    {
      "cell_type": "markdown",
      "metadata": {
        "id": "GtqZPDx8ZDLw"
      },
      "source": [
        "Al terminar se encuentran los mejores valores para los hiperpa´rametros dados"
      ]
    },
    {
      "cell_type": "code",
      "metadata": {
        "colab": {
          "base_uri": "https://localhost:8080/",
          "height": 163
        },
        "id": "jy1UpmzD2sCm",
        "outputId": "161afc39-1e97-403c-cae2-d6bc2135133b"
      },
      "source": [
        "rf_random.best_params_"
      ],
      "execution_count": null,
      "outputs": [
        {
          "output_type": "error",
          "ename": "NameError",
          "evalue": "ignored",
          "traceback": [
            "\u001b[0;31m---------------------------------------------------------------------------\u001b[0m",
            "\u001b[0;31mNameError\u001b[0m                                 Traceback (most recent call last)",
            "\u001b[0;32m<ipython-input-31-ea266b0743c6>\u001b[0m in \u001b[0;36m<module>\u001b[0;34m()\u001b[0m\n\u001b[0;32m----> 1\u001b[0;31m \u001b[0mrf_random\u001b[0m\u001b[0;34m.\u001b[0m\u001b[0mbest_params_\u001b[0m\u001b[0;34m\u001b[0m\u001b[0;34m\u001b[0m\u001b[0m\n\u001b[0m",
            "\u001b[0;31mNameError\u001b[0m: name 'rf_random' is not defined"
          ]
        }
      ]
    },
    {
      "cell_type": "markdown",
      "metadata": {
        "id": "KDg9kfyUZKy8"
      },
      "source": [
        "Se define el modelo de random forest ajustando con los mejores hiperparámetros encontrados"
      ]
    },
    {
      "cell_type": "code",
      "metadata": {
        "colab": {
          "base_uri": "https://localhost:8080/"
        },
        "id": "sgRr5B1D7gYT",
        "outputId": "6ea717c9-d219-4783-de3c-522c0442f82c"
      },
      "source": [
        "rfo = RandomForestRegressor(bootstrap=True, max_depth=100,max_features='auto',min_samples_leaf=1,min_samples_split=2,n_estimators=1400)\n",
        "rfo.fit(X_train, y_train)"
      ],
      "execution_count": null,
      "outputs": [
        {
          "output_type": "execute_result",
          "data": {
            "text/plain": [
              "RandomForestRegressor(bootstrap=True, ccp_alpha=0.0, criterion='mse',\n",
              "                      max_depth=100, max_features='auto', max_leaf_nodes=None,\n",
              "                      max_samples=None, min_impurity_decrease=0.0,\n",
              "                      min_impurity_split=None, min_samples_leaf=1,\n",
              "                      min_samples_split=2, min_weight_fraction_leaf=0.0,\n",
              "                      n_estimators=1400, n_jobs=None, oob_score=False,\n",
              "                      random_state=None, verbose=0, warm_start=False)"
            ]
          },
          "metadata": {
            "tags": []
          },
          "execution_count": 32
        }
      ]
    },
    {
      "cell_type": "code",
      "metadata": {
        "id": "3mWQ0Jrx27QJ"
      },
      "source": [
        "y_4 = rfo.predict(X_test)"
      ],
      "execution_count": null,
      "outputs": []
    },
    {
      "cell_type": "code",
      "metadata": {
        "colab": {
          "base_uri": "https://localhost:8080/",
          "height": 295
        },
        "id": "luQvL4AG9Hen",
        "outputId": "f013803f-71a6-45d2-a1e6-ed2a04651146"
      },
      "source": [
        "plt.hist(x=y_4, bins=24, color='#F2AB6D', rwidth=0.85)\n",
        "plt.title('Histograma de edades - matplotlib - codigopiton.com')\n",
        "plt.xlabel('Edades')\n",
        "plt.ylabel('Frecuencia')\n",
        "\n",
        "plt.show() #dibujamos el histograma"
      ],
      "execution_count": null,
      "outputs": [
        {
          "output_type": "display_data",
          "data": {
            "image/png": "[encoded data removed]",
            "text/plain": [
              "<Figure size 432x288 with 1 Axes>"
            ]
          },
          "metadata": {
            "tags": [],
            "needs_background": "light"
          }
        }
      ]
    },
    {
      "cell_type": "markdown",
      "metadata": {
        "id": "UNL6BVjwZZ-5"
      },
      "source": [
        "Se realiza la evaluación de su desempeño, de acuerdo a las mismas métricas de modelos anteriores. Este proceso tomó cerca de 25 minutos en evaluar la información"
      ]
    },
    {
      "cell_type": "code",
      "metadata": {
        "colab": {
          "base_uri": "https://localhost:8080/"
        },
        "id": "YqpDsGPP3Bfs",
        "outputId": "4aa07761-fb7f-4c37-c124-5b8e64070584"
      },
      "source": [
        "dt_scores = cross_val_score(rfo, X_train, y_train, cv = 7)\n",
        "print(\"mean cross validation score: {}\".format(np.mean(dt_scores)))\n",
        "print(\"score without cv: {}\".format(rfo.score(X_train, y_train)))\n",
        "\n",
        "# on the test or hold-out set\n",
        "\n",
        "print(r2_score(y_test, rfo.predict(X_test)))\n",
        "print(rfo.score(X_test, y_test))"
      ],
      "execution_count": null,
      "outputs": [
        {
          "output_type": "stream",
          "text": [
            "mean cross validation score: 0.5905144239110501\n",
            "score without cv: 0.6473769133439442\n",
            "0.6064277513913032\n",
            "0.6064277513913032\n"
          ],
          "name": "stdout"
        }
      ]
    },
    {
      "cell_type": "markdown",
      "metadata": {
        "id": "wr1HRUuFZyZ0"
      },
      "source": [
        "**Conclusiones**"
      ]
    },
    {
      "cell_type": "markdown",
      "metadata": {
        "id": "Hgf_WNa4beyl"
      },
      "source": [
        "Con el objetivo de ubicar las pautas publicitarias en el mejor horario posible, generamos un modelo de bosques aleatorios para la regresión teniendo como base la información de horas y cantidad de visitas por hora, además utilizamos un gridsearch Para buscar optimizar los resultados.\n",
        "\n",
        "Las pautas publicitarias serán expuestas al público mayoritariamente los días domingo, lunes y martes (teniendo en cuenta el análisis descriptivo inicial) y en los horarios más probable y descritos por el modelo 10 am, 2pm y 7pm.\n",
        "\n",
        "Los días y los horarios seleccionados tendrén el 50% de las pautas publicitarias, y el otro 50% estará distribuido en el resto de los días entre las 9am y las 11pm."
      ]
    },
    {
      "cell_type": "markdown",
      "metadata": {
        "id": "2IoVYx--Z1od"
      },
      "source": [
        "**Bibliografía**"
      ]
    },
    {
      "cell_type": "markdown",
      "metadata": {
        "id": "bUycDaWvbXUL"
      },
      "source": [
        "* \tW. Koehrsen, «Hyperparameter Tuning the Random Forest in Python,» 9 1 2018. [En línea]. Available: https://towardsdatascience.com/hyperparameter-tuning-the-random-forest-in-python-using-scikit-learn-28d2aa77dd74.\n",
        "* \tscikit-learn, «sklearn.ensemble.RandomForestRegressor,» scikit-learn, 2020. [En línea]. Available: https://scikit-learn.org/stable/modules/generated/sklearn.ensemble.RandomForestRegressor.html#sklearn.ensemble.RandomForestRegressor.\n",
        "* \tpandas, «Merge, join, concatenate and compare,» 2021. [En línea]. Available: https://pandas.pydata.org/pandas-docs/stable/user_guide/merging.html.\n"
      ]
    },
    {
      "cell_type": "code",
      "metadata": {
        "id": "zB35hL1gbYkG"
      },
      "source": [
        ""
      ],
      "execution_count": null,
      "outputs": []
    }
  ]
}